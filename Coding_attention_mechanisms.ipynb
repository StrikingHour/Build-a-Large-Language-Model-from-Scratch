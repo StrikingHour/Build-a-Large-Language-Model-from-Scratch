{
  "nbformat": 4,
  "nbformat_minor": 0,
  "metadata": {
    "colab": {
      "provenance": []
    },
    "kernelspec": {
      "name": "python3",
      "display_name": "Python 3"
    },
    "language_info": {
      "name": "python"
    }
  },
  "cells": [
    {
      "cell_type": "markdown",
      "source": [
        "**Chapter 3: Coding Attention Mechansim**"
      ],
      "metadata": {
        "id": "UGfB2_lclV9C"
      }
    },
    {
      "cell_type": "markdown",
      "source": [
        "3.3 Attending to different parts of the input with self-attention"
      ],
      "metadata": {
        "id": "jxsAza7hlV5p"
      }
    },
    {
      "cell_type": "markdown",
      "source": [
        "3.3.1 A simple self-attention mechansim without trainable weights"
      ],
      "metadata": {
        "id": "c_JPLmgJlVVU"
      }
    },
    {
      "cell_type": "code",
      "execution_count": null,
      "metadata": {
        "id": "AlT1mzfOlCHz"
      },
      "outputs": [],
      "source": [
        "import torch\n",
        "\n",
        "inputs = torch.tensor(\n",
        "  [[0.43, 0.15, 0.89], # Your     (x^1)\n",
        "   [0.55, 0.87, 0.66], # journey  (x^2)\n",
        "   [0.57, 0.85, 0.64], # starts   (x^3)\n",
        "   [0.22, 0.58, 0.33], # with     (x^4)\n",
        "   [0.77, 0.25, 0.10], # one      (x^5)\n",
        "   [0.05, 0.80, 0.55]] # step     (x^6)\n",
        ")"
      ]
    },
    {
      "cell_type": "code",
      "source": [
        "attn_scores = torch.zeros(inputs.shape[0], inputs.shape[0])\n",
        "print(attn_scores)"
      ],
      "metadata": {
        "colab": {
          "base_uri": "https://localhost:8080/"
        },
        "id": "ZwwM0Ova6y4w",
        "outputId": "c15468e2-07eb-490c-fcfb-e11c3be0fa1b"
      },
      "execution_count": null,
      "outputs": [
        {
          "output_type": "stream",
          "name": "stdout",
          "text": [
            "tensor([[0., 0., 0., 0., 0., 0.],\n",
            "        [0., 0., 0., 0., 0., 0.],\n",
            "        [0., 0., 0., 0., 0., 0.],\n",
            "        [0., 0., 0., 0., 0., 0.],\n",
            "        [0., 0., 0., 0., 0., 0.],\n",
            "        [0., 0., 0., 0., 0., 0.]])\n"
          ]
        }
      ]
    },
    {
      "cell_type": "code",
      "source": [
        "for i in range(inputs.shape[0]):\n",
        "  for j in range(inputs.shape[0]):\n",
        "    attn_scores[i][j] = torch.dot(inputs[i], inputs[j])\n",
        "\n",
        "print(attn_scores)"
      ],
      "metadata": {
        "colab": {
          "base_uri": "https://localhost:8080/"
        },
        "id": "LwA4PzyM7Dgh",
        "outputId": "c21b087f-46a6-487a-8df7-9341785e35c6"
      },
      "execution_count": null,
      "outputs": [
        {
          "output_type": "stream",
          "name": "stdout",
          "text": [
            "tensor([[0.9995, 0.9544, 0.9422, 0.4753, 0.4576, 0.6310],\n",
            "        [0.9544, 1.4950, 1.4754, 0.8434, 0.7070, 1.0865],\n",
            "        [0.9422, 1.4754, 1.4570, 0.8296, 0.7154, 1.0605],\n",
            "        [0.4753, 0.8434, 0.8296, 0.4937, 0.3474, 0.6565],\n",
            "        [0.4576, 0.7070, 0.7154, 0.3474, 0.6654, 0.2935],\n",
            "        [0.6310, 1.0865, 1.0605, 0.6565, 0.2935, 0.9450]])\n"
          ]
        }
      ]
    },
    {
      "cell_type": "code",
      "source": [
        "attn_scores = inputs @ inputs.T\n",
        "print(attn_scores)"
      ],
      "metadata": {
        "colab": {
          "base_uri": "https://localhost:8080/"
        },
        "id": "p1KyalGI9702",
        "outputId": "372e650d-5ea4-4f78-84d8-7f715f8f701e"
      },
      "execution_count": null,
      "outputs": [
        {
          "output_type": "stream",
          "name": "stdout",
          "text": [
            "tensor([[0.9995, 0.9544, 0.9422, 0.4753, 0.4576, 0.6310],\n",
            "        [0.9544, 1.4950, 1.4754, 0.8434, 0.7070, 1.0865],\n",
            "        [0.9422, 1.4754, 1.4570, 0.8296, 0.7154, 1.0605],\n",
            "        [0.4753, 0.8434, 0.8296, 0.4937, 0.3474, 0.6565],\n",
            "        [0.4576, 0.7070, 0.7154, 0.3474, 0.6654, 0.2935],\n",
            "        [0.6310, 1.0865, 1.0605, 0.6565, 0.2935, 0.9450]])\n"
          ]
        }
      ]
    },
    {
      "cell_type": "code",
      "source": [
        "attn_weights = torch.softmax(attn_scores, dim = -1)\n",
        "print(attn_weights)"
      ],
      "metadata": {
        "colab": {
          "base_uri": "https://localhost:8080/"
        },
        "id": "Dj_xCtC5-GjD",
        "outputId": "f248048b-3229-4fec-f21c-7e18f30f4272"
      },
      "execution_count": null,
      "outputs": [
        {
          "output_type": "stream",
          "name": "stdout",
          "text": [
            "tensor([[0.2098, 0.2006, 0.1981, 0.1242, 0.1220, 0.1452],\n",
            "        [0.1385, 0.2379, 0.2333, 0.1240, 0.1082, 0.1581],\n",
            "        [0.1390, 0.2369, 0.2326, 0.1242, 0.1108, 0.1565],\n",
            "        [0.1435, 0.2074, 0.2046, 0.1462, 0.1263, 0.1720],\n",
            "        [0.1526, 0.1958, 0.1975, 0.1367, 0.1879, 0.1295],\n",
            "        [0.1385, 0.2184, 0.2128, 0.1420, 0.0988, 0.1896]])\n"
          ]
        }
      ]
    },
    {
      "cell_type": "code",
      "source": [
        "print(attn_weights[0].sum())"
      ],
      "metadata": {
        "colab": {
          "base_uri": "https://localhost:8080/"
        },
        "id": "7CDeXfA3-mLu",
        "outputId": "399e6480-c6b9-48df-a457-b3501841d711"
      },
      "execution_count": null,
      "outputs": [
        {
          "output_type": "stream",
          "name": "stdout",
          "text": [
            "tensor(1.0000)\n"
          ]
        }
      ]
    },
    {
      "cell_type": "code",
      "source": [
        "context_vector = attn_weights @ inputs\n",
        "print(context_vector)"
      ],
      "metadata": {
        "colab": {
          "base_uri": "https://localhost:8080/"
        },
        "id": "Bju-9383_Uj1",
        "outputId": "6252966b-b047-4649-df58-2ecb1e851fef"
      },
      "execution_count": null,
      "outputs": [
        {
          "output_type": "stream",
          "name": "stdout",
          "text": [
            "tensor([[0.4421, 0.5931, 0.5790],\n",
            "        [0.4419, 0.6515, 0.5683],\n",
            "        [0.4431, 0.6496, 0.5671],\n",
            "        [0.4304, 0.6298, 0.5510],\n",
            "        [0.4671, 0.5910, 0.5266],\n",
            "        [0.4177, 0.6503, 0.5645]])\n"
          ]
        }
      ]
    },
    {
      "cell_type": "markdown",
      "source": [
        "**3.4 Implementing Self attention with trainable weights**"
      ],
      "metadata": {
        "id": "4PO2KBwP_nRs"
      }
    },
    {
      "cell_type": "code",
      "source": [
        "d_in = inputs.shape[1]\n",
        "d_out = 2\n",
        "\n",
        "torch.manual_seed(123)\n",
        "\n",
        "W_key = torch.nn.Parameter(torch.rand(d_in, d_out), requires_grad = True)\n",
        "W_query = torch.nn.Parameter(torch.rand(d_in, d_out), requires_grad = True)\n",
        "W_value = torch.nn.Parameter(torch.rand(d_in, d_out), requires_grad = True)\n",
        "\n"
      ],
      "metadata": {
        "id": "dk7jfPha_uHF"
      },
      "execution_count": null,
      "outputs": []
    },
    {
      "cell_type": "code",
      "source": [
        "keys = inputs @ W_key\n",
        "queries = inputs @ W_query\n",
        "values = inputs @ W_value\n"
      ],
      "metadata": {
        "id": "pG31-ndeMO8x"
      },
      "execution_count": null,
      "outputs": []
    },
    {
      "cell_type": "code",
      "source": [
        "attn_scores = queries @ keys.T\n",
        "\n",
        "d_k = keys.shape[1]\n",
        "\n",
        "attn_weights = torch.softmax(attn_scores / d_k**0.5, dim = -1)\n",
        "\n"
      ],
      "metadata": {
        "id": "eB32Lrr7Mlty"
      },
      "execution_count": null,
      "outputs": []
    },
    {
      "cell_type": "code",
      "source": [
        "context_vector = attn_weights @ values\n",
        "print(context_vector)"
      ],
      "metadata": {
        "colab": {
          "base_uri": "https://localhost:8080/"
        },
        "id": "bb3vZ1hhNYXr",
        "outputId": "2572a2f3-f1b5-4011-c836-67d061a2b187"
      },
      "execution_count": null,
      "outputs": [
        {
          "output_type": "stream",
          "name": "stdout",
          "text": [
            "tensor([[0.2947, 0.7956],\n",
            "        [0.3015, 0.8132],\n",
            "        [0.3010, 0.8120],\n",
            "        [0.2925, 0.7902],\n",
            "        [0.2863, 0.7737],\n",
            "        [0.2979, 0.8043]], grad_fn=<MmBackward0>)\n"
          ]
        }
      ]
    },
    {
      "cell_type": "markdown",
      "source": [
        "**3.4.2 Implementing a compact SelfAttention Class**"
      ],
      "metadata": {
        "id": "NAgg4iqxpk1n"
      }
    },
    {
      "cell_type": "code",
      "source": [
        "import torch.nn as nn\n",
        "\n",
        "class SelfAttention_V1(nn.Module):\n",
        "\n",
        "  def __init__(self, d_in, d_out):\n",
        "    super().__init__()\n",
        "    self.W_key = torch.nn.Parameter(torch.rand(d_in, d_out), requires_grad = True)\n",
        "    self.W_query = torch.nn.Parameter(torch.rand(d_in, d_out), requires_grad = True)\n",
        "    self.W_value = torch.nn.Parameter(torch.rand(d_in, d_out), requires_grad = True)\n",
        "\n",
        "\n",
        "  def forward(self, x):\n",
        "    keys = inputs @ W_key\n",
        "    queries = inputs @ W_query\n",
        "    values = inputs @ W_value\n",
        "\n",
        "    attn_scores = queries @ keys.T\n",
        "    attn_weights = torch.softmax(attn_scores / keys.shape[-1]**0.5, dim = -1)\n",
        "    context_vector = attn_weights @ values\n",
        "\n",
        "    return context_vector\n",
        "\n",
        "torch.manual_seed(123)\n",
        "sa_v1 = SelfAttention_V1(d_in, d_out)\n",
        "sa_v1(inputs)"
      ],
      "metadata": {
        "colab": {
          "base_uri": "https://localhost:8080/"
        },
        "id": "n_-Tq8yupr9i",
        "outputId": "9fe2ffcf-9188-431f-806c-33ab43ddc53f"
      },
      "execution_count": null,
      "outputs": [
        {
          "output_type": "execute_result",
          "data": {
            "text/plain": [
              "tensor([[0.2947, 0.7956],\n",
              "        [0.3015, 0.8132],\n",
              "        [0.3010, 0.8120],\n",
              "        [0.2925, 0.7902],\n",
              "        [0.2863, 0.7737],\n",
              "        [0.2979, 0.8043]], grad_fn=<MmBackward0>)"
            ]
          },
          "metadata": {},
          "execution_count": 8
        }
      ]
    },
    {
      "cell_type": "code",
      "source": [
        "import torch.nn as nn\n",
        "\n",
        "class SelfAttention_V2(nn.Module):\n",
        "\n",
        "  def __init__(self, d_in, d_out, qkv_bias = False):\n",
        "    super().__init__()\n",
        "    self.W_key = torch.nn.Linear(d_in, d_out, qkv_bias)\n",
        "    self.W_query = torch.nn.Linear(d_in, d_out, qkv_bias)\n",
        "    self.W_value = torch.nn.Linear(d_in, d_out, qkv_bias)\n",
        "\n",
        "  def forward(self, x):\n",
        "    keys = self.W_key(x)\n",
        "    queries = self.W_query(x)\n",
        "    values = self.W_value(x)\n",
        "\n",
        "    attn_scores = queries @ keys.T\n",
        "    attn_weights = torch.softmax(attn_scores / keys.shape[-1]**0.5, dim = -1)\n",
        "    context_vector = attn_weights @ values\n",
        "\n",
        "    return context_vector\n",
        "\n",
        "torch.manual_seed(123)\n",
        "sa_v2 = SelfAttention_V2(d_in, d_out)\n",
        "sa_v2(inputs)"
      ],
      "metadata": {
        "colab": {
          "base_uri": "https://localhost:8080/"
        },
        "id": "087qUz4ls5rG",
        "outputId": "25e29cef-9ac2-4a28-ef9d-01b6e315b272"
      },
      "execution_count": null,
      "outputs": [
        {
          "output_type": "execute_result",
          "data": {
            "text/plain": [
              "tensor([[-0.5300, -0.0988],\n",
              "        [-0.5317, -0.1005],\n",
              "        [-0.5317, -0.1005],\n",
              "        [-0.5301, -0.1040],\n",
              "        [-0.5298, -0.1011],\n",
              "        [-0.5307, -0.1042]], grad_fn=<MmBackward0>)"
            ]
          },
          "metadata": {},
          "execution_count": 11
        }
      ]
    },
    {
      "cell_type": "markdown",
      "source": [
        "**3.5 Hiding future words with causal attention**"
      ],
      "metadata": {
        "id": "X2H8MXh1Pmtq"
      }
    },
    {
      "cell_type": "code",
      "source": [
        "keys = inputs @ W_key\n",
        "queries = inputs @ W_query\n",
        "values = inputs @ W_value\n",
        "\n"
      ],
      "metadata": {
        "id": "CGh46iG7PnN_"
      },
      "execution_count": null,
      "outputs": []
    },
    {
      "cell_type": "code",
      "source": [
        "attn_scores = queries @ keys.T\n",
        "print(attn_scores)"
      ],
      "metadata": {
        "colab": {
          "base_uri": "https://localhost:8080/"
        },
        "id": "lmEgmn71SmK3",
        "outputId": "86ee1b73-1761-4ad9-d047-90a04d9d8fac"
      },
      "execution_count": null,
      "outputs": [
        {
          "output_type": "stream",
          "name": "stdout",
          "text": [
            "tensor([[0.9231, 1.2705, 1.2544, 0.6973, 0.6114, 0.8995],\n",
            "        [1.3545, 1.8524, 1.8284, 1.0167, 0.8819, 1.3165],\n",
            "        [1.3241, 1.8111, 1.7877, 0.9941, 0.8626, 1.2871],\n",
            "        [0.7910, 1.0795, 1.0654, 0.5925, 0.5121, 0.7682],\n",
            "        [0.4032, 0.5577, 0.5508, 0.3061, 0.2707, 0.3937],\n",
            "        [1.1330, 1.5440, 1.5238, 0.8475, 0.7307, 1.0996]],\n",
            "       grad_fn=<MmBackward0>)\n"
          ]
        }
      ]
    },
    {
      "cell_type": "code",
      "source": [
        "context_length = inputs.shape[0]\n",
        "mask = torch.triu(torch.ones(context_length, context_length), diagonal = 1)\n",
        "masked = attn_scores.masked_fill(mask.bool(), -torch.inf)\n",
        "print(masked)"
      ],
      "metadata": {
        "colab": {
          "base_uri": "https://localhost:8080/"
        },
        "id": "5fqxbRIzSw0T",
        "outputId": "68010bcf-9750-4023-f2af-5ddfcfdaa7cc"
      },
      "execution_count": null,
      "outputs": [
        {
          "output_type": "stream",
          "name": "stdout",
          "text": [
            "tensor([[0.9231,   -inf,   -inf,   -inf,   -inf,   -inf],\n",
            "        [1.3545, 1.8524,   -inf,   -inf,   -inf,   -inf],\n",
            "        [1.3241, 1.8111, 1.7877,   -inf,   -inf,   -inf],\n",
            "        [0.7910, 1.0795, 1.0654, 0.5925,   -inf,   -inf],\n",
            "        [0.4032, 0.5577, 0.5508, 0.3061, 0.2707,   -inf],\n",
            "        [1.1330, 1.5440, 1.5238, 0.8475, 0.7307, 1.0996]],\n",
            "       grad_fn=<MaskedFillBackward0>)\n"
          ]
        }
      ]
    },
    {
      "cell_type": "code",
      "source": [
        "attn_weights = torch.softmax(masked / keys.shape[-1]**0.5, dim = -1)\n",
        "print(attn_weights)"
      ],
      "metadata": {
        "colab": {
          "base_uri": "https://localhost:8080/"
        },
        "id": "MSBDvuTYTV0Q",
        "outputId": "771f9150-ea6c-443e-9e27-069b3e2dc0fc"
      },
      "execution_count": null,
      "outputs": [
        {
          "output_type": "stream",
          "name": "stdout",
          "text": [
            "tensor([[1.0000, 0.0000, 0.0000, 0.0000, 0.0000, 0.0000],\n",
            "        [0.4129, 0.5871, 0.0000, 0.0000, 0.0000, 0.0000],\n",
            "        [0.2632, 0.3714, 0.3653, 0.0000, 0.0000, 0.0000],\n",
            "        [0.2320, 0.2846, 0.2817, 0.2017, 0.0000, 0.0000],\n",
            "        [0.1973, 0.2200, 0.2189, 0.1842, 0.1796, 0.0000],\n",
            "        [0.1612, 0.2156, 0.2126, 0.1318, 0.1213, 0.1575]],\n",
            "       grad_fn=<SoftmaxBackward0>)\n",
            "tensor(1., grad_fn=<SumBackward0>)\n"
          ]
        }
      ]
    },
    {
      "cell_type": "code",
      "source": [
        "torch.manual_seed(123)\n",
        "\n",
        "dropout = torch.nn.Dropout(0.5)\n",
        "\n",
        "print(dropout(attn_weights))"
      ],
      "metadata": {
        "colab": {
          "base_uri": "https://localhost:8080/"
        },
        "id": "J2AMsXgET2kZ",
        "outputId": "7dfc1af6-7382-407d-c594-2d9cab697f5d"
      },
      "execution_count": null,
      "outputs": [
        {
          "output_type": "stream",
          "name": "stdout",
          "text": [
            "tensor([[2.0000, 0.0000, 0.0000, 0.0000, 0.0000, 0.0000],\n",
            "        [0.0000, 1.1742, 0.0000, 0.0000, 0.0000, 0.0000],\n",
            "        [0.0000, 0.0000, 0.7307, 0.0000, 0.0000, 0.0000],\n",
            "        [0.4641, 0.5691, 0.0000, 0.0000, 0.0000, 0.0000],\n",
            "        [0.3945, 0.0000, 0.0000, 0.0000, 0.0000, 0.0000],\n",
            "        [0.0000, 0.4312, 0.0000, 0.0000, 0.0000, 0.0000]],\n",
            "       grad_fn=<MulBackward0>)\n"
          ]
        }
      ]
    },
    {
      "cell_type": "markdown",
      "source": [
        "**3.5.3: Implementing a compact causal self-attention class**"
      ],
      "metadata": {
        "id": "gDy5XylzwM1D"
      }
    },
    {
      "cell_type": "code",
      "source": [
        "batch = torch.stack((inputs, inputs), dim = 0)\n",
        "print(batch)\n",
        "print(batch.shape)"
      ],
      "metadata": {
        "colab": {
          "base_uri": "https://localhost:8080/"
        },
        "id": "5JmLFbtowZLM",
        "outputId": "ba3cd7a0-5303-45b6-be89-7fecdcb0d358"
      },
      "execution_count": null,
      "outputs": [
        {
          "output_type": "stream",
          "name": "stdout",
          "text": [
            "tensor([[[0.4300, 0.1500, 0.8900],\n",
            "         [0.5500, 0.8700, 0.6600],\n",
            "         [0.5700, 0.8500, 0.6400],\n",
            "         [0.2200, 0.5800, 0.3300],\n",
            "         [0.7700, 0.2500, 0.1000],\n",
            "         [0.0500, 0.8000, 0.5500]],\n",
            "\n",
            "        [[0.4300, 0.1500, 0.8900],\n",
            "         [0.5500, 0.8700, 0.6600],\n",
            "         [0.5700, 0.8500, 0.6400],\n",
            "         [0.2200, 0.5800, 0.3300],\n",
            "         [0.7700, 0.2500, 0.1000],\n",
            "         [0.0500, 0.8000, 0.5500]]])\n",
            "torch.Size([2, 6, 3])\n"
          ]
        }
      ]
    },
    {
      "cell_type": "code",
      "source": [
        "class CausalAttention(nn.Module):\n",
        "\n",
        "    def __init__(self, d_in, d_out, context_length, dropout, qkv_bias=False):\n",
        "        super().__init__()\n",
        "        self.d_out = d_out\n",
        "        self.W_query = nn.Linear(d_in, d_out, bias=qkv_bias)\n",
        "        self.W_key   = nn.Linear(d_in, d_out, bias=qkv_bias)\n",
        "        self.W_value = nn.Linear(d_in, d_out, bias=qkv_bias)\n",
        "        self.dropout = nn.Dropout(dropout) # New\n",
        "        self.register_buffer('mask', torch.triu(torch.ones(context_length, context_length), diagonal=1)) # New\n",
        "\n",
        "    def forward(self, x):\n",
        "        b, num_tokens, d_in = x.shape # New batch dimension b\n",
        "        # For inputs where `num_tokens` exceeds `context_length`, this will result in errors\n",
        "        # in the mask creation further below.\n",
        "        # In practice, this is not a problem since the LLM (chapters 4-7) ensures that inputs\n",
        "        # do not exceed `context_length` before reaching this forward method.\n",
        "        keys = self.W_key(x)\n",
        "        queries = self.W_query(x)\n",
        "        values = self.W_value(x)\n",
        "\n",
        "        attn_scores = queries @ keys.transpose(1, 2) # Changed transpose\n",
        "        attn_scores.masked_fill_(  # New, _ ops are in-place\n",
        "            self.mask.bool()[:num_tokens, :num_tokens], -torch.inf)  # `:num_tokens` to account for cases where the number of tokens in the batch is smaller than the supported context_size\n",
        "        attn_weights = torch.softmax(\n",
        "            attn_scores / keys.shape[-1]**0.5, dim=-1\n",
        "        )\n",
        "        attn_weights = self.dropout(attn_weights) # New\n",
        "\n",
        "        context_vec = attn_weights @ values\n",
        "        return context_vec\n",
        "\n",
        "torch.manual_seed(123)\n",
        "\n",
        "context_length = batch.shape[1]\n",
        "ca = CausalAttention(d_in, d_out, context_length, 0.0)\n",
        "\n",
        "context_vecs = ca(batch)\n",
        "\n",
        "print(context_vecs)\n",
        "print(\"context_vecs.shape:\", context_vecs.shape)"
      ],
      "metadata": {
        "colab": {
          "base_uri": "https://localhost:8080/"
        },
        "id": "muk55CZZyac1",
        "outputId": "689daf3a-3326-4fe2-b04c-4b7076b8d202"
      },
      "execution_count": null,
      "outputs": [
        {
          "output_type": "stream",
          "name": "stdout",
          "text": [
            "tensor([[[-0.4519,  0.2216],\n",
            "         [-0.5874,  0.0058],\n",
            "         [-0.6300, -0.0632],\n",
            "         [-0.5675, -0.0843],\n",
            "         [-0.5526, -0.0981],\n",
            "         [-0.5299, -0.1081]],\n",
            "\n",
            "        [[-0.4519,  0.2216],\n",
            "         [-0.5874,  0.0058],\n",
            "         [-0.6300, -0.0632],\n",
            "         [-0.5675, -0.0843],\n",
            "         [-0.5526, -0.0981],\n",
            "         [-0.5299, -0.1081]]], grad_fn=<UnsafeViewBackward0>)\n",
            "context_vecs.shape: torch.Size([2, 6, 2])\n"
          ]
        }
      ]
    },
    {
      "cell_type": "markdown",
      "source": [
        "3.6 Extending single-head attention to multi-head attention"
      ],
      "metadata": {
        "id": "xg4XDohpYPUa"
      }
    },
    {
      "cell_type": "markdown",
      "source": [
        "**3.6.2 Implementing multi-head attention with weight splits**"
      ],
      "metadata": {
        "id": "eWVLIPVdYQoB"
      }
    },
    {
      "cell_type": "code",
      "source": [
        "class MultiHeadAttention(nn.Module):\n",
        "    def __init__(self, d_in, d_out, context_length, dropout, num_heads, qkv_bias=False):\n",
        "        super().__init__()\n",
        "        assert (d_out % num_heads == 0), \\\n",
        "            \"d_out must be divisible by num_heads\"\n",
        "\n",
        "        self.d_out = d_out\n",
        "        self.num_heads = num_heads\n",
        "        self.head_dim = d_out // num_heads # Reduce the projection dim to match desired output dim\n",
        "\n",
        "        self.W_query = nn.Linear(d_in, d_out, bias=qkv_bias)\n",
        "        self.W_key = nn.Linear(d_in, d_out, bias=qkv_bias)\n",
        "        self.W_value = nn.Linear(d_in, d_out, bias=qkv_bias)\n",
        "        self.out_proj = nn.Linear(d_out, d_out)  # Linear layer to combine head outputs\n",
        "        self.dropout = nn.Dropout(dropout)\n",
        "        self.register_buffer(\n",
        "            \"mask\",\n",
        "            torch.triu(torch.ones(context_length, context_length),\n",
        "                       diagonal=1)\n",
        "        )\n",
        "\n",
        "    def forward(self, x):\n",
        "      b, num_tokens, d_in = x.shape\n",
        "      # As in `CausalAttention`, for inputs where `num_tokens` exceeds `context_length`,\n",
        "      # this will result in errors in the mask creation further below.\n",
        "      # In practice, this is not a problem since the LLM (chapters 4-7) ensures that inputs\n",
        "      # do not exceed `context_length` before reaching this forwar\n",
        "\n",
        "      keys = self.W_key(x) # Shape: (b, num_tokens, d_out)\n",
        "      queries = self.W_query(x)\n",
        "      values = self.W_value(x)\n",
        "\n",
        "      # We implicitly split the matrix by adding a `num_heads` dimension\n",
        "      # Unroll last dim: (b, num_tokens, d_out) -> (b, num_tokens, num_heads, head_dim)\n",
        "      keys = keys.view(b, num_tokens, self.num_heads, self.head_dim)\n",
        "      values = values.view(b, num_tokens, self.num_heads, self.head_dim)\n",
        "      queries = queries.view(b, num_tokens, self.num_heads, self.head_dim)\n",
        "\n",
        "      # Transpose: (b, num_tokens, num_heads, head_dim) -> (b, num_heads, num_tokens, head_dim)\n",
        "      keys = keys.transpose(1, 2)\n",
        "      queries = queries.transpose(1, 2)\n",
        "      values = values.transpose(1, 2)\n",
        "\n",
        "      # Compute scaled dot-product attention (aka self-attention) with a causal mask\n",
        "      attn_scores = queries @ keys.transpose(2, 3)  # Dot product for each head\n",
        "\n",
        "      # Original mask truncated to the number of tokens and converted to boolean\n",
        "      mask_bool = self.mask.bool()[:num_tokens, :num_tokens]\n",
        "\n",
        "      # Use the mask to fill attention scores\n",
        "      attn_scores.masked_fill_(mask_bool, -torch.inf)\n",
        "\n",
        "      attn_weights = torch.softmax(attn_scores / keys.shape[-1]**0.5, dim=-1)\n",
        "      attn_weights = self.dropout(attn_weights)\n",
        "\n",
        "      # Shape: (b, num_tokens, num_heads, head_dim)\n",
        "      context_vec = (attn_weights @ values).transpose(1, 2)\n",
        "\n",
        "      # Combine heads, where self.d_out = self.num_heads * self.head_dim\n",
        "      context_vec = context_vec.contiguous().view(b, num_tokens, self.d_out)\n",
        "      context_vec = self.out_proj(context_vec) # optional projection\n",
        "\n",
        "      return context_vec\n",
        "\n",
        "torch.manual_seed(123)\n",
        "\n",
        "batch_size, context_length, d_in = batch.shape\n",
        "d_out = 2\n",
        "mha = MultiHeadAttention(d_in, d_out, context_length, 0.0, num_heads=2)\n",
        "\n",
        "context_vecs = mha(batch)\n",
        "\n",
        "print(context_vecs)\n",
        "print(\"context_vecs.shape:\", context_vecs.shape)\n"
      ],
      "metadata": {
        "id": "kK7CrEuLYP0i",
        "colab": {
          "base_uri": "https://localhost:8080/"
        },
        "outputId": "face4eb1-ae17-492e-960d-449e5ca9ca80"
      },
      "execution_count": null,
      "outputs": [
        {
          "output_type": "stream",
          "name": "stdout",
          "text": [
            "tensor([[[0.3190, 0.4858],\n",
            "         [0.2943, 0.3897],\n",
            "         [0.2856, 0.3593],\n",
            "         [0.2693, 0.3873],\n",
            "         [0.2639, 0.3928],\n",
            "         [0.2575, 0.4028]],\n",
            "\n",
            "        [[0.3190, 0.4858],\n",
            "         [0.2943, 0.3897],\n",
            "         [0.2856, 0.3593],\n",
            "         [0.2693, 0.3873],\n",
            "         [0.2639, 0.3928],\n",
            "         [0.2575, 0.4028]]], grad_fn=<ViewBackward0>)\n",
            "context_vecs.shape: torch.Size([2, 6, 2])\n"
          ]
        }
      ]
    }
  ]
}